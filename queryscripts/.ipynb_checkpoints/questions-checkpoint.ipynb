{
 "cells": [
  {
   "cell_type": "code",
   "execution_count": null,
   "metadata": {},
   "outputs": [],
   "source": [
    "import pandas as pd\n",
    "import random\n",
    "\n",
    "df = pd.read_excel('sample-spreadsheet.xlsx')"
   ]
  },
  {
   "cell_type": "code",
   "execution_count": null,
   "metadata": {},
   "outputs": [],
   "source": [
    "while(True):\n",
    "    num = random.randint(0,13)\n",
    "    print(df.iloc[num]['english (editable)'])\n",
    "    print(df.iloc[num]['greek'])\n",
    "\n",
    "    print(\"\\nWhat case is the highlighted word in? (Enter 'A', 'B', 'C', 'D', 'E', or 'Quit')\")\n",
    "    print(\"A. Nominative\")\n",
    "    print(\"B. Genitive\")\n",
    "    print(\"C. Dative\")\n",
    "    print(\"D. Accusative\")\n",
    "    print(\"E. Vocative\")\n",
    "    print(\"Quit\")\n",
    "    answer = input(\"\")\n",
    "\n",
    "    postag = df.iloc[num]['postag']\n",
    "    form = df.iloc[num]['form']\n",
    "    case = postag[7]\n",
    "    if (case == 'n' and answer == 'A'):\n",
    "        print('Correct! ' + form + ' is in the nominative case.\\n')\n",
    "    elif (case == 'g' and answer == 'B'):\n",
    "        print('Correct! ' + form + ' is in the genitive case.\\n')\n",
    "    elif (case == 'd' and answer == 'C'):\n",
    "        print('Correct! ' + form + ' is in the dative case.\\n')\n",
    "    elif (case == 'a' and answer == 'D'):\n",
    "        print('Correct! ' + form + ' is in the accusative case.\\n')\n",
    "    elif (case == 'v' and answer == 'E'):\n",
    "        print('Correct! ' + form + ' is in the vocative case.\\n')\n",
    "    elif (answer == 'Quit'):\n",
    "        break\n",
    "    else:\n",
    "        if (case == 'n'):\n",
    "            print('Incorrect. ' + form + ' is in the nominative case.\\n')\n",
    "        elif (case == 'g'):\n",
    "            print('Incorrect. ' + form + ' is in the genitive case.\\n')\n",
    "        elif (case == 'd'):\n",
    "            print('Incorrect. ' + form + ' is in the dative case.\\n')\n",
    "        elif (case == 'a'):\n",
    "            print('Incorrect. ' + form + ' is in the accusative case.\\n')\n",
    "        elif (case == 'v'):\n",
    "            print('Incorrect. ' + form + ' is in the vocative case.\\n')"
   ]
  },
  {
   "cell_type": "code",
   "execution_count": null,
   "metadata": {},
   "outputs": [],
   "source": []
  }
 ],
 "metadata": {
  "kernelspec": {
   "display_name": "Python 3",
   "language": "python",
   "name": "python3"
  },
  "language_info": {
   "codemirror_mode": {
    "name": "ipython",
    "version": 3
   },
   "file_extension": ".py",
   "mimetype": "text/x-python",
   "name": "python",
   "nbconvert_exporter": "python",
   "pygments_lexer": "ipython3",
   "version": "3.7.6"
  }
 },
 "nbformat": 4,
 "nbformat_minor": 4
}
