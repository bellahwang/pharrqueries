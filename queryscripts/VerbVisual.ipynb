{
 "cells": [
  {
   "cell_type": "code",
   "execution_count": 2,
   "metadata": {},
   "outputs": [],
   "source": [
    "import xml.etree.ElementTree as ET\n",
    "import networkx as nx\n",
    "import math\n",
    "\n",
    "# change FILENAME to local path\n",
    "FILENAME = \"tlg0012.tlg001.perseus-grc1.tb.xml\"\n",
    "\n",
    "tree = ET.parse(FILENAME)\n",
    "root = tree.getroot()\n",
    "\n",
    "G = nx.Graph()\n",
    "\n",
    "verbid = None\n",
    "attribhead = None\n",
    "\n",
    "for sentence in root.findall(\".//sentence\"):\n",
    "\tfor word in sentence.findall(\"./word\"):\n",
    "\t\tif ('postag' in word.attrib):\n",
    "\t\t\tpostag = word.get('postag')\n",
    "\t\t\tpos = postag[0]\n",
    "\t\t\tif (pos == 'v'):\n",
    "\t\t\t\tverbid = word.get('id')\n",
    "\t\t\t\tverblemma = word.get('lemma')\n",
    "\t\t\t\tverbform = word.get('form')\n",
    "\t\t\t\tG.add_node(verblemma, pos = pos)\n",
    "\t\t\telse:\n",
    "\t\t\t\tattribrelation = word.get('relation')\n",
    "\t\t\t\tif (attribrelation == 'PNOM' or attribrelation == 'SBJ' or attribrelation == 'OBJ'):\n",
    "\t\t\t\t\tattribhead = word.get('head')\n",
    "\t\t\t\t\tattriblemma = word.get('lemma')\n",
    "\t\t\t\t\tattribcite = word.get('cite')\n",
    "\t\t\t\t\tif (attribhead == verbid):\n",
    "\t\t\t\t\t\tG.add_node(attriblemma, pos = pos)\n",
    "\t\t\t\t\t\tif(attribrelation == 'PNOM' or attribrelation == 'OBJ'):\n",
    "\t\t\t\t\t\t\tif G.has_edge(verblemma, attriblemma):\n",
    "\t\t\t\t\t\t\t\tG[verblemma][attriblemma]['weight'] += 1\n",
    "\t\t\t\t\t\t\telse:\n",
    "\t\t\t\t\t\t\t\tG.add_edge(verblemma, attriblemma, relation = attribrelation, weight = 1)"
   ]
  },
  {
   "cell_type": "code",
   "execution_count": 36,
   "metadata": {},
   "outputs": [
    {
     "data": {
      "text/plain": [
       "0.013333333333333334"
      ]
     },
     "execution_count": 36,
     "metadata": {},
     "output_type": "execute_result"
    }
   ],
   "source": [
    "# Jaccard Index\n",
    "A = list(G.neighbors('γίγνομαι'))\n",
    "B = list(G.neighbors('εἰμί'))\n",
    "intersection = len(set(A).intersection(B))\n",
    "union = len(set(A).union(B))\n",
    "intersection/union"
   ]
  },
  {
   "cell_type": "code",
   "execution_count": 17,
   "metadata": {},
   "outputs": [],
   "source": [
    "A = G.neighbors('ἔχω')\n",
    "B = G.neighbors('αἱρέω')\n",
    "union = set(A).union(B)\n",
    "\n",
    "H = nx.Graph()\n",
    "\n",
    "for i in A:\n",
    "    nx.get_node_attributes(G, 'weight')\n",
    "exo = []\n",
    "for (i in range(len(union))):\n",
    "    if (A[i] == union[i]):\n",
    "        exo.append('1')\n",
    "    else:"
   ]
  },
  {
   "cell_type": "code",
   "execution_count": 65,
   "metadata": {},
   "outputs": [
    {
     "data": {
      "text/plain": [
       "0.34210526315789475"
      ]
     },
     "execution_count": 65,
     "metadata": {},
     "output_type": "execute_result"
    }
   ],
   "source": [
    "# weighted Jaccard Index?\n",
    "A = len(list(G.neighbors('λαμβάνω')))\n",
    "B = len(list(G.neighbors('αἱρέω')))\n",
    "min = (((A + B) - abs(A - B))/2)\n",
    "max = (((A + B) + abs(A - B))/2)\n",
    "min/max"
   ]
  },
  {
   "cell_type": "code",
   "execution_count": 41,
   "metadata": {},
   "outputs": [
    {
     "data": {
      "text/plain": [
       "0.17755520605710876"
      ]
     },
     "execution_count": 41,
     "metadata": {},
     "output_type": "execute_result"
    }
   ],
   "source": [
    "# Cosine similarity\n",
    "A = list(G.neighbors('ἔχω'))\n",
    "B = list(G.neighbors('λαμβάνω'))\n",
    "intersection = len(set(A).intersection(B))\n",
    "denominator = math.sqrt(len(A) * len(B))\n",
    "intersection/denominator"
   ]
  },
  {
   "cell_type": "code",
   "execution_count": null,
   "metadata": {},
   "outputs": [],
   "source": [
    "# https://arxiv.org/ftp/arxiv/papers/1403/1403.4303.pdf"
   ]
  }
 ],
 "metadata": {
  "kernelspec": {
   "display_name": "Python 3",
   "language": "python",
   "name": "python3"
  },
  "language_info": {
   "codemirror_mode": {
    "name": "ipython",
    "version": 3
   },
   "file_extension": ".py",
   "mimetype": "text/x-python",
   "name": "python",
   "nbconvert_exporter": "python",
   "pygments_lexer": "ipython3",
   "version": "3.7.6"
  }
 },
 "nbformat": 4,
 "nbformat_minor": 4
}
